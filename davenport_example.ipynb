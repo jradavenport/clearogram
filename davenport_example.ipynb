{
 "cells": [
  {
   "cell_type": "code",
   "execution_count": 28,
   "metadata": {
    "collapsed": true
   },
   "outputs": [],
   "source": [
    "%matplotlib inline\n",
    "import numpy as np\n",
    "import pandas as pd\n",
    "import matplotlib.pyplot as plt\n",
    "import matplotlib\n",
    "from matplotlib.colors import LogNorm\n",
    "from matplotlib.colors import Colormap\n",
    "import matplotlib.cm as cm\n",
    "\n",
    "matplotlib.rcParams.update({'font.size':18})\n",
    "matplotlib.rcParams.update({'font.family':'serif'})"
   ]
  },
  {
   "cell_type": "code",
   "execution_count": 2,
   "metadata": {
    "collapsed": true
   },
   "outputs": [],
   "source": [
    "data = 'data.csv'\n",
    "\n",
    "df = pd.read_csv(data)"
   ]
  },
  {
   "cell_type": "code",
   "execution_count": 3,
   "metadata": {
    "collapsed": false
   },
   "outputs": [
    {
     "data": {
      "text/plain": [
       "Index([u'Star', u'Age', u'Ageerr', u'Prot', u'Perr', u'Teff', u'Tefferr',\n",
       "       u'log', u'g', u'vsi', u'ni', u'Vm', u'ic', u'Vr', u'Vrerr', u'i',\n",
       "       u'ierr1', u'ierr2', u'L', u'Lerr', u'R', u'Rerr', u'M', u'Merr1',\n",
       "       u'Merr2', u'tau', u'_conv', u'cerr', u'Ros', u'sby', u'sberr', u'<B>',\n",
       "       u'B_max', u'pol.', u'tor.', u'dip.', u'quad.', u'oct.', u'axisym',\n",
       "       u'axisym.1', u'axisym.2', u'axisym.3', u'tor', u'l1 tor', u'l2 torl3'],\n",
       "      dtype='object')"
      ]
     },
     "execution_count": 3,
     "metadata": {},
     "output_type": "execute_result"
    }
   ],
   "source": [
    "df.columns"
   ]
  },
  {
   "cell_type": "code",
   "execution_count": 4,
   "metadata": {
    "collapsed": true
   },
   "outputs": [],
   "source": [
    "def makeshape(paramX, paramY):\n",
    "    xx = [-1.*paramX, 1.*paramX, 1.*paramX, -1.*paramX, -1*paramX]\n",
    "    yy = [-1.*paramY, -1.*paramY, 1.*paramY, 1.*paramY, -1*paramY]\n",
    "    out = list(zip(xx, yy))\n",
    "    return out"
   ]
  },
  {
   "cell_type": "code",
   "execution_count": 29,
   "metadata": {
    "collapsed": false
   },
   "outputs": [
    {
     "data": {
      "text/plain": [
       "<matplotlib.text.Text at 0x10b0c0a50>"
      ]
     },
     "execution_count": 29,
     "metadata": {},
     "output_type": "execute_result"
    },
    {
     "data": {
      "image/png": "[encoded data removed]",
      "text/plain": [
       "<matplotlib.figure.Figure at 0x108f83710>"
      ]
     },
     "metadata": {},
     "output_type": "display_data"
    }
   ],
   "source": [
    "plt.figure(figsize=(8,8))\n",
    "\n",
    "for k in range(len(df['axisym'])):\n",
    "    plt.scatter(df['Prot'][k], df['M'][k], s=((df['B_max'][k])*10), \n",
    "                c=df['pol.'][k], cmap=cm.jet, marker=None, alpha=0.5, \n",
    "                verts=makeshape(2-df['axisym'][k]/100.,df['axisym'][k]/50.))\n",
    "\n",
    "# plt.yscale('log')\n",
    "plt.xscale('log')\n",
    "\n",
    "plt.ylim(1e-1, 1)\n",
    "plt.xlim(1e-1, 30)\n",
    "\n",
    "plt.xlabel('Prot')\n",
    "plt.ylabel('Mass')"
   ]
  },
  {
   "cell_type": "code",
   "execution_count": null,
   "metadata": {
    "collapsed": true
   },
   "outputs": [],
   "source": []
  }
 ],
 "metadata": {
  "kernelspec": {
   "display_name": "Python 2",
   "language": "python",
   "name": "python2"
  },
  "language_info": {
   "codemirror_mode": {
    "name": "ipython",
    "version": 2
   },
   "file_extension": ".py",
   "mimetype": "text/x-python",
   "name": "python",
   "nbconvert_exporter": "python",
   "pygments_lexer": "ipython2",
   "version": "2.7.11"
  }
 },
 "nbformat": 4,
 "nbformat_minor": 0
}
